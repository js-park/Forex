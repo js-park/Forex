{
 "cells": [
  {
   "cell_type": "code",
   "execution_count": 1,
   "metadata": {},
   "outputs": [],
   "source": [
    "import requests\n",
    "import pandas as pd\n",
    "import json"
   ]
  },
  {
   "cell_type": "code",
   "execution_count": 3,
   "metadata": {},
   "outputs": [],
   "source": [
    "from gcapi import GCapiClient"
   ]
  },
  {
   "cell_type": "code",
   "execution_count": 4,
   "metadata": {},
   "outputs": [],
   "source": [
    "api = GCapiClient(username='DA438287', password='trade123', appkey='J.Park', proxies=None)"
   ]
  },
  {
   "cell_type": "code",
   "execution_count": 3,
   "metadata": {},
   "outputs": [
    {
     "data": {
      "text/plain": [
       "{'LogonUserName': 'Mr Joonsung Park  - Test',\n",
       " 'ClientAccountId': 402201187,\n",
       " 'CultureId': 69,\n",
       " 'ClientAccountCurrency': 'EUR',\n",
       " 'AccountOperatorId': 401375842,\n",
       " 'TradingAccounts': [{'TradingAccountId': 402710096,\n",
       "   'TradingAccountCode': 'DA438287',\n",
       "   'TradingAccountStatus': 'Open',\n",
       "   'TradingAccountType': 'CFD'}],\n",
       " 'PersonalEmailAddress': 'bear.park1220@gmail.com',\n",
       " 'HasMultipleEmailAddresses': False,\n",
       " 'AccountHolders': [{'LegalPartyId': 404427574,\n",
       "   'Name': 'Mr Joonsung Park  - Test'}],\n",
       " 'ClientTypeId': 1,\n",
       " 'LinkedClientAccounts': [],\n",
       " 'IsNfaEnabledClient': False,\n",
       " 'IsFifo': None,\n",
       " 'DaysUntilExpiryForDemo': 32.163058480191,\n",
       " 'LegalPartyUniqueReference': 8110413,\n",
       " 'Is2FAEnabledAO': False,\n",
       " 'Regulatory': {'IsMiFIDRegulator': True,\n",
       "  'IsPiisProvided': False,\n",
       "  'ClientAccountCreationDate': '/Date(1588372088473)/'},\n",
       " 'IsDMAClient': False}"
      ]
     },
     "execution_count": 3,
     "metadata": {},
     "output_type": "execute_result"
    }
   ],
   "source": [
    "api.get_account_info(get=None)"
   ]
  },
  {
   "cell_type": "code",
   "execution_count": 4,
   "metadata": {},
   "outputs": [
    {
     "data": {
      "text/plain": [
       "{'Cash': 11412.56,\n",
       " 'Margin': 0.0,\n",
       " 'MarginIndicator': -1.0,\n",
       " 'NetEquity': 11412.56,\n",
       " 'OpenTradeEquity': 0.0,\n",
       " 'TradableFunds': 11412.56,\n",
       " 'PendingFunds': 0.0,\n",
       " 'TradingResource': 11412.56,\n",
       " 'TotalMarginRequirement': 0.0,\n",
       " 'CurrencyId': 4,\n",
       " 'CurrencyIsoCode': 'EUR'}"
      ]
     },
     "execution_count": 4,
     "metadata": {},
     "output_type": "execute_result"
    }
   ],
   "source": [
    "api.get_margin_info(get=None)"
   ]
  },
  {
   "cell_type": "code",
   "execution_count": 14,
   "metadata": {},
   "outputs": [
    {
     "data": {
      "text/html": [
       "<div>\n",
       "<style scoped>\n",
       "    .dataframe tbody tr th:only-of-type {\n",
       "        vertical-align: middle;\n",
       "    }\n",
       "\n",
       "    .dataframe tbody tr th {\n",
       "        vertical-align: top;\n",
       "    }\n",
       "\n",
       "    .dataframe thead th {\n",
       "        text-align: right;\n",
       "    }\n",
       "</style>\n",
       "<table border=\"1\" class=\"dataframe\">\n",
       "  <thead>\n",
       "    <tr style=\"text-align: right;\">\n",
       "      <th></th>\n",
       "      <th>BarDate</th>\n",
       "      <th>Open</th>\n",
       "      <th>High</th>\n",
       "      <th>Low</th>\n",
       "      <th>Close</th>\n",
       "    </tr>\n",
       "  </thead>\n",
       "  <tbody>\n",
       "    <tr>\n",
       "      <td>0</td>\n",
       "      <td>2020-04-28 16:00:00</td>\n",
       "      <td>1.08437</td>\n",
       "      <td>1.08580</td>\n",
       "      <td>1.08303</td>\n",
       "      <td>1.08325</td>\n",
       "    </tr>\n",
       "    <tr>\n",
       "      <td>1</td>\n",
       "      <td>2020-04-28 17:00:00</td>\n",
       "      <td>1.08331</td>\n",
       "      <td>1.08465</td>\n",
       "      <td>1.08251</td>\n",
       "      <td>1.08365</td>\n",
       "    </tr>\n",
       "    <tr>\n",
       "      <td>2</td>\n",
       "      <td>2020-04-28 18:00:00</td>\n",
       "      <td>1.08363</td>\n",
       "      <td>1.08386</td>\n",
       "      <td>1.08254</td>\n",
       "      <td>1.08317</td>\n",
       "    </tr>\n",
       "    <tr>\n",
       "      <td>3</td>\n",
       "      <td>2020-04-28 19:00:00</td>\n",
       "      <td>1.08318</td>\n",
       "      <td>1.08372</td>\n",
       "      <td>1.08270</td>\n",
       "      <td>1.08358</td>\n",
       "    </tr>\n",
       "    <tr>\n",
       "      <td>4</td>\n",
       "      <td>2020-04-28 20:00:00</td>\n",
       "      <td>1.08357</td>\n",
       "      <td>1.08400</td>\n",
       "      <td>1.08331</td>\n",
       "      <td>1.08359</td>\n",
       "    </tr>\n",
       "    <tr>\n",
       "      <td>...</td>\n",
       "      <td>...</td>\n",
       "      <td>...</td>\n",
       "      <td>...</td>\n",
       "      <td>...</td>\n",
       "      <td>...</td>\n",
       "    </tr>\n",
       "    <tr>\n",
       "      <td>95</td>\n",
       "      <td>2020-05-04 15:00:00</td>\n",
       "      <td>1.09349</td>\n",
       "      <td>1.09381</td>\n",
       "      <td>1.09218</td>\n",
       "      <td>1.09267</td>\n",
       "    </tr>\n",
       "    <tr>\n",
       "      <td>96</td>\n",
       "      <td>2020-05-04 16:00:00</td>\n",
       "      <td>1.09264</td>\n",
       "      <td>1.09355</td>\n",
       "      <td>1.09038</td>\n",
       "      <td>1.09164</td>\n",
       "    </tr>\n",
       "    <tr>\n",
       "      <td>97</td>\n",
       "      <td>2020-05-04 17:00:00</td>\n",
       "      <td>1.09163</td>\n",
       "      <td>1.09179</td>\n",
       "      <td>1.09006</td>\n",
       "      <td>1.09105</td>\n",
       "    </tr>\n",
       "    <tr>\n",
       "      <td>98</td>\n",
       "      <td>2020-05-04 18:00:00</td>\n",
       "      <td>1.09107</td>\n",
       "      <td>1.09111</td>\n",
       "      <td>1.08958</td>\n",
       "      <td>1.09002</td>\n",
       "    </tr>\n",
       "    <tr>\n",
       "      <td>99</td>\n",
       "      <td>2020-05-04 19:00:00</td>\n",
       "      <td>1.09004</td>\n",
       "      <td>1.09064</td>\n",
       "      <td>1.08970</td>\n",
       "      <td>1.09022</td>\n",
       "    </tr>\n",
       "  </tbody>\n",
       "</table>\n",
       "<p>100 rows × 5 columns</p>\n",
       "</div>"
      ],
      "text/plain": [
       "               BarDate     Open     High      Low    Close\n",
       "0  2020-04-28 16:00:00  1.08437  1.08580  1.08303  1.08325\n",
       "1  2020-04-28 17:00:00  1.08331  1.08465  1.08251  1.08365\n",
       "2  2020-04-28 18:00:00  1.08363  1.08386  1.08254  1.08317\n",
       "3  2020-04-28 19:00:00  1.08318  1.08372  1.08270  1.08358\n",
       "4  2020-04-28 20:00:00  1.08357  1.08400  1.08331  1.08359\n",
       "..                 ...      ...      ...      ...      ...\n",
       "95 2020-05-04 15:00:00  1.09349  1.09381  1.09218  1.09267\n",
       "96 2020-05-04 16:00:00  1.09264  1.09355  1.09038  1.09164\n",
       "97 2020-05-04 17:00:00  1.09163  1.09179  1.09006  1.09105\n",
       "98 2020-05-04 18:00:00  1.09107  1.09111  1.08958  1.09002\n",
       "99 2020-05-04 19:00:00  1.09004  1.09064  1.08970  1.09022\n",
       "\n",
       "[100 rows x 5 columns]"
      ]
     },
     "execution_count": 14,
     "metadata": {},
     "output_type": "execute_result"
    }
   ],
   "source": [
    "api.get_ohlc(market_id=401166447, num_ticks=100, interval=\"HOUR\", span=1, from_ts=None, to_ts=None)"
   ]
  },
  {
   "cell_type": "code",
   "execution_count": 11,
   "metadata": {},
   "outputs": [],
   "source": [
    "rest_url = 'https://ciapi.cityindex.com/TradingAPI'\n",
    "headers = {'Content-Type':'application/json'}\n",
    "data = {\n",
    "    \"UserName\": 'DA438287',\n",
    "    \"Password\": 'trade123',\n",
    "    'AppKey':'J.Park'\n",
    "}\n",
    "r=requests.post(rest_url + '/session', headers=headers, proxies=None, json=data)\n"
   ]
  },
  {
   "cell_type": "code",
   "execution_count": 12,
   "metadata": {},
   "outputs": [],
   "source": [
    "resp = r.json()"
   ]
  },
  {
   "cell_type": "code",
   "execution_count": 13,
   "metadata": {},
   "outputs": [
    {
     "data": {
      "text/plain": [
       "{'Session': 'a64eb224-a768-4284-a5b7-0f83cf403f7a',\n",
       " 'PasswordChangeRequired': False,\n",
       " 'AllowedAccountOperator': False,\n",
       " 'StatusCode': 1,\n",
       " 'AdditionalInfo': None,\n",
       " 'Is2FAEnabled': False,\n",
       " 'TwoFAToken': None,\n",
       " 'Additional2FAMethods': None,\n",
       " 'UserType': 1}"
      ]
     },
     "execution_count": 13,
     "metadata": {},
     "output_type": "execute_result"
    }
   ],
   "source": [
    "resp"
   ]
  },
  {
   "cell_type": "code",
   "execution_count": 14,
   "metadata": {},
   "outputs": [
    {
     "data": {
      "text/plain": [
       "1"
      ]
     },
     "execution_count": 14,
     "metadata": {},
     "output_type": "execute_result"
    }
   ],
   "source": [
    "resp['StatusCode']"
   ]
  },
  {
   "cell_type": "code",
   "execution_count": 15,
   "metadata": {},
   "outputs": [],
   "source": [
    "with requests.Session() as s:\n",
    "    s.headers = headers\n",
    "session=s"
   ]
  },
  {
   "cell_type": "markdown",
   "metadata": {},
   "source": [
    "#### Clear\n",
    "It is understandable until this point.    \n",
    "To use the REST API, I need to assign the values of 'URL','HEADERS' and 'DATA' dictionaries.   \n",
    "It is entering in the system using request.post step.   \n",
    "\n",
    "#### Problem\n",
    "Using the library, I can get the market info. It is searching the MARKET ID.   \n",
    "When I type the code by myself, it is not working correctly.\n",
    "\n",
    "#### Things to DO\n",
    "https://github.com/rickykim93/gcapi-python/blob/master/gcapi/gcapi_client.py \n",
    "Study from the def get_prices"
   ]
  },
  {
   "cell_type": "code",
   "execution_count": 16,
   "metadata": {},
   "outputs": [
    {
     "name": "stdout",
     "output_type": "stream",
     "text": [
      "2020-05-05 15:43:21.587004\n"
     ]
    },
    {
     "data": {
      "text/plain": [
       "{'HttpStatus': 401, 'ErrorMessage': 'Session is not valid', 'ErrorCode': 4011}"
      ]
     },
     "execution_count": 16,
     "metadata": {},
     "output_type": "execute_result"
    }
   ],
   "source": [
    "price_type='MID'\n",
    "market_id = 401449250\n",
    "num_ticks=1000\n",
    "interval='HOUR'\n",
    "span=1\n",
    "#from_ts = '1234'\n",
    "now_ts = datetime.now()\n",
    "print(now_ts)\n",
    "r = session.get(rest_url + f'/market/{market_id}/barhistory?interval={interval}&span={span}&PriceBars={num_ticks}')\n",
    "r.json()\n",
    "#session.get(rest_url + '/market/401449250/tickhistoryafter?interval=HOUR&span=1&maxResults=10&toTimeStampUTC=2020-05-05 15:14:28.197478')"
   ]
  },
  {
   "cell_type": "code",
   "execution_count": 23,
   "metadata": {},
   "outputs": [],
   "source": [
    "def get_ohlc(market_id=None, num_ticks=None, interval=\"HOUR\", span=1, from_ts=None, to_ts=None):\n",
    "\t\t\"\"\"\n",
    "\t\tGet the open, high, low, close of a specific market_id\n",
    "\t\t:param market_id: market ID\n",
    "\t\t:param num_ticks: number of price ticks/data to retrieve\n",
    "\t\t:param interval: MINUTE, HOUR or DAY tick interval\n",
    "\t\t:param span: it can be a combination of span with interval, 1Hour, 15 MINUTE\n",
    "\t\t:param from_ts: from timestamp UTC\n",
    "\t\t:param to_ts: to timestamp UTC\n",
    "\t\t:return: ohlc dataframe\n",
    "\t\t\"\"\"\n",
    "\n",
    "\n",
    "\t\tif market_id is None:\n",
    "\t\t\tmarket_id = market_id\n",
    "\t\tinterval = check_interval(interval)\n",
    "\t\tspan = check_span(interval, span)\n",
    "\t\tif from_ts is not None and to_ts is not None:\n",
    "\t\t\tr = session.get(\n",
    "\t\t\t\trest_url + f'/market/{market_id}/barhistorybetween?interval={interval}&span={span}fromTimeStampUTC={from_ts}&toTimestampUTC={to_ts}')\n",
    "\t\telse:\n",
    "\t\t\tif not num_ticks:\n",
    "\t\t\t\tnum_ticks=1\n",
    "\t\t\tif from_ts is not None:\n",
    "\t\t\t\tr = session.get(\n",
    "\t\t\t\t\trest_url + f'/market/{market_id}/barhistorybefore?interval={interval}&span={span}&maxResults={num_ticks}&toTimeStampUTC={to_ts}')\n",
    "\t\t\telif to_ts is not None:\n",
    "\t\t\t\tr = session.get(\n",
    "\t\t\t\t\trest_url + f'/market/{market_id}/tickhistoryafter?interval={interval}&span={span}&maxResults={num_ticks}&fromTimeStampUTC={from_ts}')\n",
    "\t\t\telse:\n",
    "\t\t\t\tr = session.get(rest_url + f'/market/{market_id}/barhistory?interval={interval}&span={span}&PriceBars={num_ticks}')\n",
    "\t\tresp = json.loads(r.text)\n",
    "\n",
    "\t\ttry:\n",
    "\t\t\tif num_ticks==1:\n",
    "\t\t\t\treturn resp.get('PriceBars')[0]\n",
    "\t\t\telse:\n",
    "\t\t\t\tdf_ohlc = pd.DataFrame(resp.get('PriceBars'))\n",
    "\t\t\t\tdf_ohlc['BarDate'] = df_ohlc['BarDate'].map(format_date)\n",
    "\t\t\t\treturn df_ohlc\n",
    "\t\texcept:\n",
    "\t\t\traise GCapiException(resp)\n"
   ]
  },
  {
   "cell_type": "code",
   "execution_count": 24,
   "metadata": {},
   "outputs": [
    {
     "ename": "NameError",
     "evalue": "name 'check_interval' is not defined",
     "output_type": "error",
     "traceback": [
      "\u001b[1;31m---------------------------------------------------------------------------\u001b[0m",
      "\u001b[1;31mNameError\u001b[0m                                 Traceback (most recent call last)",
      "\u001b[1;32m<ipython-input-24-c081bf4dacbe>\u001b[0m in \u001b[0;36m<module>\u001b[1;34m\u001b[0m\n\u001b[1;32m----> 1\u001b[1;33m \u001b[0mget_ohlc\u001b[0m\u001b[1;33m(\u001b[0m \u001b[0mmarket_id\u001b[0m\u001b[1;33m=\u001b[0m \u001b[1;36m401449250\u001b[0m\u001b[1;33m,\u001b[0m \u001b[0mnum_ticks\u001b[0m\u001b[1;33m=\u001b[0m\u001b[1;36m100\u001b[0m\u001b[1;33m,\u001b[0m \u001b[0minterval\u001b[0m\u001b[1;33m=\u001b[0m\u001b[1;34m'HOUR'\u001b[0m\u001b[1;33m,\u001b[0m \u001b[0mspan\u001b[0m\u001b[1;33m=\u001b[0m\u001b[1;36m1\u001b[0m\u001b[1;33m)\u001b[0m\u001b[1;33m\u001b[0m\u001b[1;33m\u001b[0m\u001b[0m\n\u001b[0m",
      "\u001b[1;32m<ipython-input-23-ed79a955c683>\u001b[0m in \u001b[0;36mget_ohlc\u001b[1;34m(market_id, num_ticks, interval, span, from_ts, to_ts)\u001b[0m\n\u001b[0;32m     14\u001b[0m                 \u001b[1;32mif\u001b[0m \u001b[0mmarket_id\u001b[0m \u001b[1;32mis\u001b[0m \u001b[1;32mNone\u001b[0m\u001b[1;33m:\u001b[0m\u001b[1;33m\u001b[0m\u001b[1;33m\u001b[0m\u001b[0m\n\u001b[0;32m     15\u001b[0m                         \u001b[0mmarket_id\u001b[0m \u001b[1;33m=\u001b[0m \u001b[0mmarket_id\u001b[0m\u001b[1;33m\u001b[0m\u001b[1;33m\u001b[0m\u001b[0m\n\u001b[1;32m---> 16\u001b[1;33m                 \u001b[0minterval\u001b[0m \u001b[1;33m=\u001b[0m \u001b[0mcheck_interval\u001b[0m\u001b[1;33m(\u001b[0m\u001b[0minterval\u001b[0m\u001b[1;33m)\u001b[0m\u001b[1;33m\u001b[0m\u001b[1;33m\u001b[0m\u001b[0m\n\u001b[0m\u001b[0;32m     17\u001b[0m                 \u001b[0mspan\u001b[0m \u001b[1;33m=\u001b[0m \u001b[0mcheck_span\u001b[0m\u001b[1;33m(\u001b[0m\u001b[0minterval\u001b[0m\u001b[1;33m,\u001b[0m \u001b[0mspan\u001b[0m\u001b[1;33m)\u001b[0m\u001b[1;33m\u001b[0m\u001b[1;33m\u001b[0m\u001b[0m\n\u001b[0;32m     18\u001b[0m                 \u001b[1;32mif\u001b[0m \u001b[0mfrom_ts\u001b[0m \u001b[1;32mis\u001b[0m \u001b[1;32mnot\u001b[0m \u001b[1;32mNone\u001b[0m \u001b[1;32mand\u001b[0m \u001b[0mto_ts\u001b[0m \u001b[1;32mis\u001b[0m \u001b[1;32mnot\u001b[0m \u001b[1;32mNone\u001b[0m\u001b[1;33m:\u001b[0m\u001b[1;33m\u001b[0m\u001b[1;33m\u001b[0m\u001b[0m\n",
      "\u001b[1;31mNameError\u001b[0m: name 'check_interval' is not defined"
     ]
    }
   ],
   "source": [
    "get_ohlc( market_id= 401449250, num_ticks=100, interval='HOUR', span=1)"
   ]
  },
  {
   "cell_type": "code",
   "execution_count": 2,
   "metadata": {},
   "outputs": [
    {
     "data": {
      "text/plain": [
       "<Response [401]>"
      ]
     },
     "execution_count": 2,
     "metadata": {},
     "output_type": "execute_result"
    }
   ],
   "source": [
    "session.get('https://ciapi.cityindex.com/TradingAPI/market/search?SearchByMarketName=TRUE&Query=GBP%2FUSD&MaxResults=10')"
   ]
  },
  {
   "cell_type": "code",
   "execution_count": 13,
   "metadata": {},
   "outputs": [
    {
     "data": {
      "text/plain": [
       "<Response [404]>"
      ]
     },
     "execution_count": 13,
     "metadata": {},
     "output_type": "execute_result"
    }
   ],
   "source": [
    "requests.get('https://ciapi.cityindex.com/TradingAPI/market/information')"
   ]
  },
  {
   "cell_type": "code",
   "execution_count": 20,
   "metadata": {},
   "outputs": [
    {
     "data": {
      "text/plain": [
       "<Response [401]>"
      ]
     },
     "execution_count": 20,
     "metadata": {},
     "output_type": "execute_result"
    }
   ],
   "source": [
    "requests.get('https://ciapi.cityindex.com/TradingAPI/market/search?SearchByMarketName=TRUE&Query=GBP%2FUSD&MaxResults=2&includeOptions=False')"
   ]
  },
  {
   "cell_type": "code",
   "execution_count": null,
   "metadata": {},
   "outputs": [],
   "source": []
  },
  {
   "cell_type": "code",
   "execution_count": null,
   "metadata": {},
   "outputs": [],
   "source": []
  },
  {
   "cell_type": "code",
   "execution_count": null,
   "metadata": {},
   "outputs": [],
   "source": []
  },
  {
   "cell_type": "code",
   "execution_count": null,
   "metadata": {},
   "outputs": [],
   "source": []
  },
  {
   "cell_type": "code",
   "execution_count": null,
   "metadata": {},
   "outputs": [],
   "source": []
  },
  {
   "cell_type": "markdown",
   "metadata": {},
   "source": [
    "#### What I understand and can use"
   ]
  },
  {
   "cell_type": "code",
   "execution_count": 1,
   "metadata": {},
   "outputs": [
    {
     "name": "stdout",
     "output_type": "stream",
     "text": [
      "If Okay, it is 1 = 1\n"
     ]
    },
    {
     "ename": "NameError",
     "evalue": "name 'api' is not defined",
     "output_type": "error",
     "traceback": [
      "\u001b[1;31m---------------------------------------------------------------------------\u001b[0m",
      "\u001b[1;31mNameError\u001b[0m                                 Traceback (most recent call last)",
      "\u001b[1;32m<ipython-input-1-fd145ff7f7e5>\u001b[0m in \u001b[0;36m<module>\u001b[1;34m\u001b[0m\n\u001b[0;32m     22\u001b[0m \u001b[0msession\u001b[0m\u001b[1;33m=\u001b[0m\u001b[0ms\u001b[0m\u001b[1;33m\u001b[0m\u001b[1;33m\u001b[0m\u001b[0m\n\u001b[0;32m     23\u001b[0m \u001b[1;33m\u001b[0m\u001b[0m\n\u001b[1;32m---> 24\u001b[1;33m \u001b[0mapi\u001b[0m\u001b[1;33m.\u001b[0m\u001b[0mget_market_info\u001b[0m\u001b[1;33m(\u001b[0m\u001b[1;34m'EUR/USD'\u001b[0m\u001b[1;33m,\u001b[0m\u001b[0mget\u001b[0m\u001b[1;33m=\u001b[0m\u001b[1;32mNone\u001b[0m\u001b[1;33m)\u001b[0m\u001b[1;33m\u001b[0m\u001b[1;33m\u001b[0m\u001b[0m\n\u001b[0m",
      "\u001b[1;31mNameError\u001b[0m: name 'api' is not defined"
     ]
    }
   ],
   "source": [
    "import requests\n",
    "import pandas as pd\n",
    "import json\n",
    "from datetime import datetime\n",
    "#from gcapi import GCapiClient\n",
    "#api = GCapiClient(username='DA438287', password='trade123', appkey='J.Park', proxies=None)\n",
    "\n",
    "rest_url = 'https://ciapi.cityindex.com/TradingAPI'\n",
    "headers = {'Content-Type':'application/json'}\n",
    "data = {\n",
    "    \"UserName\": 'DA438287',\n",
    "    \"Password\": 'trade123',\n",
    "    'AppKey':'J.Park'\n",
    "}\n",
    "r=requests.post(rest_url + '/session', headers=headers, proxies=None, json=data)\n",
    "\n",
    "resp = r.json()\n",
    "print('If Okay, it is 1 =', resp['StatusCode'])\n",
    "\n",
    "with requests.Session() as s:\n",
    "    s.headers = headers\n",
    "session=s\n",
    "\n",
    "api.get_market_info('EUR/USD',get=None)\n"
   ]
  },
  {
   "cell_type": "code",
   "execution_count": null,
   "metadata": {},
   "outputs": [],
   "source": []
  }
 ],
 "metadata": {
  "kernelspec": {
   "display_name": "Python 3",
   "language": "python",
   "name": "python3"
  },
  "language_info": {
   "codemirror_mode": {
    "name": "ipython",
    "version": 3
   },
   "file_extension": ".py",
   "mimetype": "text/x-python",
   "name": "python",
   "nbconvert_exporter": "python",
   "pygments_lexer": "ipython3",
   "version": "3.7.4"
  }
 },
 "nbformat": 4,
 "nbformat_minor": 2
}
