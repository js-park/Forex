{
 "cells": [
  {
   "cell_type": "code",
   "execution_count": null,
   "metadata": {},
   "outputs": [],
   "source": [
    "설치:\n",
    "pip install apscheduler\n",
    "\n",
    "\n",
    "# 사용방법\n",
    "\n",
    "# 스케줄 종류에는 여러가지가 있는데 대표적으로 BlockingScheduler, BackgroundScheduler 입니다\n",
    "# BlockingScheduler 는 단일수행에, BackgroundScheduler은 다수 수행에 사용됩니다.\n",
    "# 여기서는 BackgroundScheduler 를 사용하겠습니다.\n",
    "from apscheduler.schedulers.background import BackgroundScheduler\n",
    "from apscheduler.jobstores.base import JobLookupError\n",
    "\n",
    "import time\n",
    "\n",
    "\n",
    "def job():\n",
    "    print(\"I'm working...\", \"| [time] \"\n",
    "          , str(time.localtime().tm_hour) + \":\"\n",
    "          + str(time.localtime().tm_min) + \":\"\n",
    "          + str(time.localtime().tm_sec))\n",
    "\n",
    "\n",
    "def job_2():\n",
    "    print(\"Job2 실행: \", \"| [time] \"\n",
    "          , str(time.localtime().tm_hour) + \":\"\n",
    "          + str(time.localtime().tm_min) + \":\"\n",
    "          + str(time.localtime().tm_sec))\n",
    "\n",
    "# BackgroundScheduler 를 사용하면 stat를 먼저 하고 add_job 을 이용해 수행할 것을 등록해줍니다. \n",
    "sched = BackgroundScheduler() \n",
    "sched.start()\n",
    "\n",
    "# interval - 매 3조마다 실행 \n",
    "sched.add_job(job, 'interval', seconds=3, id=\"test_2\")\n",
    "\n",
    "# cron 사용 - 매 5초마다 job 실행 \n",
    "# : id 는 고유 수행번호로 겹치면 수행되지 않습니다. \n",
    "# 만약 겹치면 다음의 에러 발생 => 'Job identifier (test_1) conflicts with an existing job' \n",
    "sched.add_job(job, 'cron', second='*/5', id=\"test_1\") \n",
    "# cron 으로 하는 경우는 다음과 같이 파라미터를 상황에 따라 여러개 넣어도 됩니다. \n",
    "\n",
    "# 매시간 59분 10초에 실행한다는 의미. \n",
    "sched.add_job(job_2, 'cron', minute=\"59\", second='10', id=\"test_10\") \n",
    "count = 0\n",
    "while True: \n",
    "    print(\"Running main process...............\") \n",
    "    time.sleep(1)\n"
   ]
  },
  {
   "cell_type": "code",
   "execution_count": 1,
   "metadata": {},
   "outputs": [],
   "source": [
    "from apscheduler.schedulers.background import BackgroundScheduler\n",
    "from apscheduler.jobstores.base import JobLookupError\n",
    "\n",
    "import time\n",
    "\n",
    "def job():\n",
    "    print(\"I'm working...\", \"| [time] \"\n",
    "          , str(time.localtime().tm_hour) + \":\"\n",
    "          + str(time.localtime().tm_min) + \":\"\n",
    "          + str(time.localtime().tm_sec))\n",
    "\n",
    "def job_2(): \n",
    "    print(\"Job2 실행: \", \"| [time] \", \n",
    "          str(time.localtime().tm_hour) + \":\" + str(time.localtime().tm_min) + \":\" + str(time.localtime().tm_sec))\n"
   ]
  },
  {
   "cell_type": "code",
   "execution_count": 2,
   "metadata": {},
   "outputs": [],
   "source": [
    "sched = BackgroundScheduler() \n",
    "sched.start()"
   ]
  },
  {
   "cell_type": "code",
   "execution_count": null,
   "metadata": {},
   "outputs": [
    {
     "name": "stdout",
     "output_type": "stream",
     "text": [
      "Running main process...............\n",
      "I'm working... | [time]  20:42:45\n",
      "Running main process...............\n",
      "I'm working... | [time]  20:42:50\n",
      "Running main process...............\n",
      "I'm working... | [time]  20:42:55\n",
      "Running main process...............\n",
      "I'm working... | [time]  20:43:0\n",
      "Running main process...............\n",
      "I'm working... | [time]  20:43:5\n"
     ]
    }
   ],
   "source": [
    "sched.add_job(job, 'cron', second='*/5', id=\"test_1\")\n",
    "\n",
    "sched.add_job(job, 'cron', minute=\"00\", second='10', id=\"test_1\") \n",
    "sched.add_job(job, 'cron', minute=\"30\", second='10', id=\"test_2\") \n",
    "count = 0\n",
    "while True: \n",
    "    print(\"Running main process...............\") \n",
    "    time.sleep(120)"
   ]
  },
  {
   "cell_type": "code",
   "execution_count": 7,
   "metadata": {},
   "outputs": [],
   "source": [
    "from email.mime.text import MIMEText\n",
    "from email.mime.multipart import MIMEMultipart\n",
    "import smtplib\n",
    "\n",
    "SMTP_SERVER = \"smtp.gmail.com\"\n",
    "SMTP_PORT = 465\n",
    "\n",
    "SMTP_USER = \"bear.park1220@gmail.com\"\n",
    "addr = \"bear.park1220@gmail.com\"\n",
    "SMTP_PASSWORD = \"elsekydjrmvgadoo\"\n",
    "\n",
    "\n",
    "# 이메일 보내기 함수\n",
    "def send_mail(addr, subj_layout, cont_layout, attachment=None):\n",
    "    \n",
    "    # 텍스트 파일\n",
    "    msg = MIMEMultipart(\"alternative\")\n",
    "    # 첨부파일이 있는 경우 mixed로 multipart 생성\n",
    "    if attachment:\n",
    "        msg = MIMEMultipart('mixed')\n",
    "    msg[\"From\"] = SMTP_USER\n",
    "    msg[\"To\"] = addr\n",
    "    msg[\"Subject\"] = subj_layout\n",
    "    contents = cont_layout\n",
    "    text = MIMEText(_text = contents, _charset = \"utf-8\")\n",
    "    msg.attach(text)\n",
    "    # 첨부파일이 있으면\n",
    "    if attachment:\n",
    "        from email.mime.base import MIMEBase\n",
    "        from email import encoders\n",
    "        file_data = MIMEBase(\"application\", \"octect-stream\")\n",
    "        file_data.set_payload(open(attachment, \"rb\").read())\n",
    "        encoders.encode_base64(file_data)\n",
    "        import os\n",
    "        filename = os.path.basename(attachment)\n",
    "        file_data.add_header(\"Content-Disposition\", 'attachment', filename=('UTF-8', '', filename))\n",
    "        msg.attach(file_data)\n",
    "    # smtp로 접속할 서버 정보를 가진 클래스변수 생성\n",
    "    smtp = smtplib.SMTP_SSL(SMTP_SERVER, SMTP_PORT)\n",
    "    # 해당 서버로 로그인\n",
    "    smtp.login(SMTP_USER, SMTP_PASSWORD)\n",
    "    # 메일 발송\n",
    "    smtp.sendmail(SMTP_USER, addr, msg.as_string())\n",
    "    # 닫기\n",
    "    smtp.close()"
   ]
  },
  {
   "cell_type": "code",
   "execution_count": 8,
   "metadata": {},
   "outputs": [],
   "source": [
    "send_mail(\"bear.park1220@gmail.com\", 'TEST', 'Testing')"
   ]
  },
  {
   "cell_type": "code",
   "execution_count": null,
   "metadata": {},
   "outputs": [],
   "source": []
  }
 ],
 "metadata": {
  "kernelspec": {
   "display_name": "Python 3",
   "language": "python",
   "name": "python3"
  },
  "language_info": {
   "codemirror_mode": {
    "name": "ipython",
    "version": 3
   },
   "file_extension": ".py",
   "mimetype": "text/x-python",
   "name": "python",
   "nbconvert_exporter": "python",
   "pygments_lexer": "ipython3",
   "version": "3.7.4"
  }
 },
 "nbformat": 4,
 "nbformat_minor": 2
}
