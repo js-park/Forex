{
 "cells": [
  {
   "cell_type": "code",
   "execution_count": 30,
   "metadata": {},
   "outputs": [],
   "source": [
    "import json\n",
    "import oandapyV20\n",
    "from oandapyV20 import API\n",
    "\n",
    "import oandapyV20.endpoints.accounts as accounts\n",
    "import oandapyV20.endpoints.trades as trades\n",
    "import oandapyV20.endpoints.pricing as pricing\n",
    "\n",
    "access_token = \"7ccc85abf56a01875737b6960358ab57-dd05259ea857638ea26020a9ede67f50\"\n",
    "accountID =\"01-004-14079620-001\"\n",
    "client = API(access_token=access_token)\n"
   ]
  },
  {
   "cell_type": "code",
   "execution_count": 27,
   "metadata": {},
   "outputs": [
    {
     "ename": "V20Error",
     "evalue": "{\"errorMessage\":\"The provided request was forbidden.\"}",
     "output_type": "error",
     "traceback": [
      "\u001b[1;31m---------------------------------------------------------------------------\u001b[0m",
      "\u001b[1;31mV20Error\u001b[0m                                  Traceback (most recent call last)",
      "\u001b[1;32m<ipython-input-27-2d9784ec1ead>\u001b[0m in \u001b[0;36m<module>\u001b[1;34m\u001b[0m\n\u001b[0;32m      1\u001b[0m \u001b[0mr\u001b[0m \u001b[1;33m=\u001b[0m \u001b[0mtrades\u001b[0m\u001b[1;33m.\u001b[0m\u001b[0mTradesList\u001b[0m\u001b[1;33m(\u001b[0m\u001b[0maccountID\u001b[0m\u001b[1;33m)\u001b[0m\u001b[1;33m\u001b[0m\u001b[1;33m\u001b[0m\u001b[0m\n\u001b[1;32m----> 2\u001b[1;33m \u001b[0mrv\u001b[0m \u001b[1;33m=\u001b[0m \u001b[0mclient\u001b[0m\u001b[1;33m.\u001b[0m\u001b[0mrequest\u001b[0m\u001b[1;33m(\u001b[0m\u001b[0mr\u001b[0m\u001b[1;33m)\u001b[0m\u001b[1;33m\u001b[0m\u001b[1;33m\u001b[0m\u001b[0m\n\u001b[0m\u001b[0;32m      3\u001b[0m \u001b[0mprint\u001b[0m\u001b[1;33m(\u001b[0m\u001b[1;34m\"RESPONSE:\\n{}\"\u001b[0m\u001b[1;33m.\u001b[0m\u001b[0mformat\u001b[0m\u001b[1;33m(\u001b[0m\u001b[0mjson\u001b[0m\u001b[1;33m.\u001b[0m\u001b[0mdumps\u001b[0m\u001b[1;33m(\u001b[0m\u001b[0mrv\u001b[0m\u001b[1;33m,\u001b[0m \u001b[0mindent\u001b[0m\u001b[1;33m=\u001b[0m\u001b[1;36m2\u001b[0m\u001b[1;33m)\u001b[0m\u001b[1;33m)\u001b[0m\u001b[1;33m)\u001b[0m\u001b[1;33m\u001b[0m\u001b[1;33m\u001b[0m\u001b[0m\n",
      "\u001b[1;32m~\\Anaconda3\\lib\\site-packages\\oandapyV20\\oandapyV20.py\u001b[0m in \u001b[0;36mrequest\u001b[1;34m(self, endpoint)\u001b[0m\n\u001b[0;32m    304\u001b[0m \u001b[1;33m\u001b[0m\u001b[0m\n\u001b[0;32m    305\u001b[0m             response = self.__request(method, url,\n\u001b[1;32m--> 306\u001b[1;33m                                       request_args, headers=headers)\n\u001b[0m\u001b[0;32m    307\u001b[0m             \u001b[0mcontent\u001b[0m \u001b[1;33m=\u001b[0m \u001b[0mresponse\u001b[0m\u001b[1;33m.\u001b[0m\u001b[0mcontent\u001b[0m\u001b[1;33m.\u001b[0m\u001b[0mdecode\u001b[0m\u001b[1;33m(\u001b[0m\u001b[1;34m'utf-8'\u001b[0m\u001b[1;33m)\u001b[0m\u001b[1;33m\u001b[0m\u001b[1;33m\u001b[0m\u001b[0m\n\u001b[0;32m    308\u001b[0m             \u001b[0mcontent\u001b[0m \u001b[1;33m=\u001b[0m \u001b[0mjson\u001b[0m\u001b[1;33m.\u001b[0m\u001b[0mloads\u001b[0m\u001b[1;33m(\u001b[0m\u001b[0mcontent\u001b[0m\u001b[1;33m)\u001b[0m\u001b[1;33m\u001b[0m\u001b[1;33m\u001b[0m\u001b[0m\n",
      "\u001b[1;32m~\\Anaconda3\\lib\\site-packages\\oandapyV20\\oandapyV20.py\u001b[0m in \u001b[0;36m__request\u001b[1;34m(self, method, url, request_args, headers, stream)\u001b[0m\n\u001b[0;32m    241\u001b[0m                          response.content.decode('utf-8'))\n\u001b[0;32m    242\u001b[0m             raise V20Error(response.status_code,\n\u001b[1;32m--> 243\u001b[1;33m                            response.content.decode('utf-8'))\n\u001b[0m\u001b[0;32m    244\u001b[0m         \u001b[1;32mreturn\u001b[0m \u001b[0mresponse\u001b[0m\u001b[1;33m\u001b[0m\u001b[1;33m\u001b[0m\u001b[0m\n\u001b[0;32m    245\u001b[0m \u001b[1;33m\u001b[0m\u001b[0m\n",
      "\u001b[1;31mV20Error\u001b[0m: {\"errorMessage\":\"The provided request was forbidden.\"}"
     ]
    }
   ],
   "source": [
    "r = trades.TradesList(accountID)\n",
    "rv = client.request(r)\n",
    "print(\"RESPONSE:\\n{}\".format(json.dumps(rv, indent=2)))"
   ]
  },
  {
   "cell_type": "code",
   "execution_count": 17,
   "metadata": {},
   "outputs": [],
   "source": [
    "params = {\"instruments\":\"EUR_USD\"}"
   ]
  },
  {
   "cell_type": "code",
   "execution_count": 18,
   "metadata": {},
   "outputs": [],
   "source": [
    "r=pricing.PricingInfo(accountID=accountID, params=params)"
   ]
  },
  {
   "cell_type": "code",
   "execution_count": 16,
   "metadata": {},
   "outputs": [
    {
     "ename": "V20Error",
     "evalue": "{\"errorMessage\":\"The provided request was forbidden.\"}",
     "output_type": "error",
     "traceback": [
      "\u001b[1;31m---------------------------------------------------------------------------\u001b[0m",
      "\u001b[1;31mV20Error\u001b[0m                                  Traceback (most recent call last)",
      "\u001b[1;32m<ipython-input-16-6c175a80cd50>\u001b[0m in \u001b[0;36m<module>\u001b[1;34m\u001b[0m\n\u001b[1;32m----> 1\u001b[1;33m \u001b[0mrv\u001b[0m \u001b[1;33m=\u001b[0m \u001b[0mapi\u001b[0m\u001b[1;33m.\u001b[0m\u001b[0mrequest\u001b[0m\u001b[1;33m(\u001b[0m\u001b[0mr\u001b[0m\u001b[1;33m)\u001b[0m\u001b[1;33m\u001b[0m\u001b[1;33m\u001b[0m\u001b[0m\n\u001b[0m",
      "\u001b[1;32m~\\Anaconda3\\lib\\site-packages\\oandapyV20\\oandapyV20.py\u001b[0m in \u001b[0;36mrequest\u001b[1;34m(self, endpoint)\u001b[0m\n\u001b[0;32m    304\u001b[0m \u001b[1;33m\u001b[0m\u001b[0m\n\u001b[0;32m    305\u001b[0m             response = self.__request(method, url,\n\u001b[1;32m--> 306\u001b[1;33m                                       request_args, headers=headers)\n\u001b[0m\u001b[0;32m    307\u001b[0m             \u001b[0mcontent\u001b[0m \u001b[1;33m=\u001b[0m \u001b[0mresponse\u001b[0m\u001b[1;33m.\u001b[0m\u001b[0mcontent\u001b[0m\u001b[1;33m.\u001b[0m\u001b[0mdecode\u001b[0m\u001b[1;33m(\u001b[0m\u001b[1;34m'utf-8'\u001b[0m\u001b[1;33m)\u001b[0m\u001b[1;33m\u001b[0m\u001b[1;33m\u001b[0m\u001b[0m\n\u001b[0;32m    308\u001b[0m             \u001b[0mcontent\u001b[0m \u001b[1;33m=\u001b[0m \u001b[0mjson\u001b[0m\u001b[1;33m.\u001b[0m\u001b[0mloads\u001b[0m\u001b[1;33m(\u001b[0m\u001b[0mcontent\u001b[0m\u001b[1;33m)\u001b[0m\u001b[1;33m\u001b[0m\u001b[1;33m\u001b[0m\u001b[0m\n",
      "\u001b[1;32m~\\Anaconda3\\lib\\site-packages\\oandapyV20\\oandapyV20.py\u001b[0m in \u001b[0;36m__request\u001b[1;34m(self, method, url, request_args, headers, stream)\u001b[0m\n\u001b[0;32m    241\u001b[0m                          response.content.decode('utf-8'))\n\u001b[0;32m    242\u001b[0m             raise V20Error(response.status_code,\n\u001b[1;32m--> 243\u001b[1;33m                            response.content.decode('utf-8'))\n\u001b[0m\u001b[0;32m    244\u001b[0m         \u001b[1;32mreturn\u001b[0m \u001b[0mresponse\u001b[0m\u001b[1;33m\u001b[0m\u001b[1;33m\u001b[0m\u001b[0m\n\u001b[0;32m    245\u001b[0m \u001b[1;33m\u001b[0m\u001b[0m\n",
      "\u001b[1;31mV20Error\u001b[0m: {\"errorMessage\":\"The provided request was forbidden.\"}"
     ]
    }
   ],
   "source": [
    "rv = api.request(r)"
   ]
  },
  {
   "cell_type": "code",
   "execution_count": null,
   "metadata": {},
   "outputs": [],
   "source": []
  },
  {
   "cell_type": "code",
   "execution_count": null,
   "metadata": {},
   "outputs": [],
   "source": []
  },
  {
   "cell_type": "code",
   "execution_count": null,
   "metadata": {},
   "outputs": [],
   "source": []
  },
  {
   "cell_type": "code",
   "execution_count": 33,
   "metadata": {},
   "outputs": [
    {
     "ename": "IndexError",
     "evalue": "list index out of range",
     "output_type": "error",
     "traceback": [
      "\u001b[1;31m---------------------------------------------------------------------------\u001b[0m",
      "\u001b[1;31mIndexError\u001b[0m                                Traceback (most recent call last)",
      "\u001b[1;32m<ipython-input-33-be2fca5ccf9b>\u001b[0m in \u001b[0;36m<module>\u001b[1;34m\u001b[0m\n\u001b[0;32m      9\u001b[0m \u001b[0m_from\u001b[0m \u001b[1;33m=\u001b[0m \u001b[0msys\u001b[0m\u001b[1;33m.\u001b[0m\u001b[0margv\u001b[0m\u001b[1;33m[\u001b[0m\u001b[1;36m1\u001b[0m\u001b[1;33m]\u001b[0m\u001b[1;33m\u001b[0m\u001b[1;33m\u001b[0m\u001b[0m\n\u001b[0;32m     10\u001b[0m \u001b[0m_to\u001b[0m \u001b[1;33m=\u001b[0m \u001b[0msys\u001b[0m\u001b[1;33m.\u001b[0m\u001b[0margv\u001b[0m\u001b[1;33m[\u001b[0m\u001b[1;36m2\u001b[0m\u001b[1;33m]\u001b[0m\u001b[1;33m\u001b[0m\u001b[1;33m\u001b[0m\u001b[0m\n\u001b[1;32m---> 11\u001b[1;33m \u001b[0mgran\u001b[0m \u001b[1;33m=\u001b[0m \u001b[0msys\u001b[0m\u001b[1;33m.\u001b[0m\u001b[0margv\u001b[0m\u001b[1;33m[\u001b[0m\u001b[1;36m3\u001b[0m\u001b[1;33m]\u001b[0m\u001b[1;33m\u001b[0m\u001b[1;33m\u001b[0m\u001b[0m\n\u001b[0m\u001b[0;32m     12\u001b[0m \u001b[0minstr\u001b[0m \u001b[1;33m=\u001b[0m \u001b[0msys\u001b[0m\u001b[1;33m.\u001b[0m\u001b[0margv\u001b[0m\u001b[1;33m[\u001b[0m\u001b[1;36m4\u001b[0m\u001b[1;33m]\u001b[0m\u001b[1;33m\u001b[0m\u001b[1;33m\u001b[0m\u001b[0m\n\u001b[0;32m     13\u001b[0m \u001b[1;33m\u001b[0m\u001b[0m\n",
      "\u001b[1;31mIndexError\u001b[0m: list index out of range"
     ]
    }
   ],
   "source": [
    "import sys\n",
    "import json\n",
    "\n",
    "from oandapyV20.contrib.factories import InstrumentsCandlesFactory\n",
    "from oandapyV20 import API\n",
    "\n",
    "client = API(access_token=access_token)\n",
    "\n",
    "_from = sys.argv[1]\n",
    "_to = sys.argv[2]\n",
    "gran = sys.argv[3]\n",
    "instr = sys.argv[4]\n",
    "\n",
    "params = {\n",
    "    \"granularity\": gran,\n",
    "    \"from\": _from,\n",
    "    \"to\": _to\n",
    "}\n",
    "\n",
    "def cnv(r, h):\n",
    "    for candle in r.get('candles'):\n",
    "        ctime = candle.get('time')[0:19]\n",
    "        try:\n",
    "            rec = \"{time},{complete},{o},{h},{l},{c},{v}\".format(\n",
    "                time=ctime,\n",
    "                complete=candle['complete'],\n",
    "                o=candle['mid']['o'],\n",
    "                h=candle['mid']['h'],\n",
    "                l=candle['mid']['l'],\n",
    "                c=candle['mid']['c'],\n",
    "                v=candle['volume'],\n",
    "            )\n",
    "        except Exception as e:\n",
    "            print(e, r)\n",
    "        else:\n",
    "            h.write(rec+\"\\n\")\n",
    "\n",
    "with open(\"/tmp/{}.{}.out\".format(instr, gran), \"w\") as O:\n",
    "    for r in InstrumentsCandlesFactory(instrument=instr, params=params):\n",
    "        print(\"REQUEST: {} {} {}\".format(r, r.__class__.__name__, r.params))\n",
    "        rv = client.request(r)\n",
    "        cnv(r.response, O)"
   ]
  },
  {
   "cell_type": "code",
   "execution_count": 44,
   "metadata": {},
   "outputs": [],
   "source": [
    "import sys \n",
    "import json\n",
    "\n",
    "from oandapyV20.contrib.factories import InstrumentsCandlesFactory\n",
    "from oandapyV20 import API\n",
    "\n",
    "client = API(access_token=access_token)\n",
    "\n",
    "_from = sys.argv[1]\n",
    "_to = sys.argv[2]"
   ]
  },
  {
   "cell_type": "code",
   "execution_count": 46,
   "metadata": {},
   "outputs": [],
   "source": [
    "def cnv(r, h):\n",
    "    for candle in r.get('candles'):\n",
    "        ctime = candle.get('time')[0:19]\n",
    "        try:\n",
    "            rec = \"{time},{complete},{o},{h},{l},{c},{v}\".format(\n",
    "                time=ctime,\n",
    "                complete=candle['complete'],\n",
    "                o=candle['mid']['o'],\n",
    "                h=candle['mid']['h'],\n",
    "                l=candle['mid']['l'],\n",
    "                c=candle['mid']['c'],\n",
    "                v=candle['volume'],\n",
    "            )\n",
    "        except Exception as e:\n",
    "            print(e, r)\n",
    "        else:\n",
    "            h.write(rec+\"\\n\")"
   ]
  },
  {
   "cell_type": "code",
   "execution_count": 49,
   "metadata": {},
   "outputs": [
    {
     "name": "stdout",
     "output_type": "stream",
     "text": [
      "2020-04-04 17:32:11.618100\n",
      "2020 4 17 32\n"
     ]
    }
   ],
   "source": [
    "import datetime\n",
    "print(datetime.datetime.now())\n",
    "now = datetime.datetime.now()\n",
    "print(now.year, now.month, now.hour, now.minute)"
   ]
  },
  {
   "cell_type": "code",
   "execution_count": 42,
   "metadata": {},
   "outputs": [
    {
     "data": {
      "text/plain": [
       "'C:\\\\Users\\\\bearp\\\\Anaconda3\\\\lib\\\\site-packages\\\\ipykernel_launcher.py'"
      ]
     },
     "execution_count": 42,
     "metadata": {},
     "output_type": "execute_result"
    }
   ],
   "source": []
  },
  {
   "cell_type": "code",
   "execution_count": 43,
   "metadata": {},
   "outputs": [
    {
     "ename": "IndexError",
     "evalue": "list index out of range",
     "output_type": "error",
     "traceback": [
      "\u001b[1;31m---------------------------------------------------------------------------\u001b[0m",
      "\u001b[1;31mIndexError\u001b[0m                                Traceback (most recent call last)",
      "\u001b[1;32m<ipython-input-43-55006a4ffc14>\u001b[0m in \u001b[0;36m<module>\u001b[1;34m\u001b[0m\n\u001b[1;32m----> 1\u001b[1;33m \u001b[0msys\u001b[0m\u001b[1;33m.\u001b[0m\u001b[0margv\u001b[0m\u001b[1;33m[\u001b[0m\u001b[1;36m3\u001b[0m\u001b[1;33m]\u001b[0m\u001b[1;33m\u001b[0m\u001b[1;33m\u001b[0m\u001b[0m\n\u001b[0m",
      "\u001b[1;31mIndexError\u001b[0m: list index out of range"
     ]
    }
   ],
   "source": []
  },
  {
   "cell_type": "code",
   "execution_count": null,
   "metadata": {},
   "outputs": [],
   "source": []
  }
 ],
 "metadata": {
  "kernelspec": {
   "display_name": "Python 3",
   "language": "python",
   "name": "python3"
  },
  "language_info": {
   "codemirror_mode": {
    "name": "ipython",
    "version": 3
   },
   "file_extension": ".py",
   "mimetype": "text/x-python",
   "name": "python",
   "nbconvert_exporter": "python",
   "pygments_lexer": "ipython3",
   "version": "3.7.4"
  }
 },
 "nbformat": 4,
 "nbformat_minor": 2
}
